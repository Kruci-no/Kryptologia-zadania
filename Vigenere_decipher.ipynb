{
 "cells": [
  {
   "cell_type": "code",
   "execution_count": 120,
   "metadata": {
    "collapsed": true
   },
   "outputs": [],
   "source": [
    "import string\n",
    "import numpy as np"
   ]
  },
  {
   "cell_type": "code",
   "execution_count": 644,
   "metadata": {
    "collapsed": true
   },
   "outputs": [],
   "source": [
    "class Decipher():\n",
    "    \n",
    "    def __init__(self,alphabet,frequency):\n",
    "        self.alphabet = alphabet\n",
    "        self.alphabet_dict = {alphabet[i]:i for i in range(len(alphabet))}\n",
    "        self.frequency = np.array(frequency)\n",
    "        self.frequency /= np.linalg.norm(self.frequency)\n",
    "\n",
    "    def deciphe(self,cryptogram, n):\n",
    "        \"\"\"\n",
    "        Takes encrypted string and number indicating max \n",
    "        lenght of key. Returns pair: key, decrypted text\n",
    "        \"\"\"\n",
    "        num_cryptogram = np.array([self.alphabet_dict[letter] for letter in cryptogram])\n",
    "        best_inner_prod = 0\n",
    "        for i in range(1,n+1):\n",
    "            div_cryptogram = [num_cryptogram[k::i] for k in range(i)]\n",
    "            freq_div_cryptogram = list(map(self._count_freq,div_cryptogram))\n",
    "            inner_prod_key_pair = [self._max_shift_inner_prod(freq_text,self.frequency) for freq_text in freq_div_cryptogram]\n",
    "            mean = np.mean([pair[0] for pair in inner_prod_key_pair])\n",
    "            key = [pair[1] for pair in inner_prod_key_pair]\n",
    "            num_deciphed = np.array(self._deciphe_with_key(num_cryptogram,key))\n",
    "            inner_prod = np.dot(self._count_freq(num_deciphed),self.frequency )\n",
    "            if best_inner_prod < inner_prod :\n",
    "                best_inner_prod = inner_prod\n",
    "                best_key = key\n",
    "        num_deciphed = self._deciphe_with_key(num_cryptogram,best_key)\n",
    "        deciphed_text = ''.join([self.alphabet[num] for num in num_deciphed])\n",
    "        key_text = ''.join([self.alphabet[num] for num in best_key])\n",
    "        return key_text,deciphed_text \n",
    "   \n",
    "    def _count_freq(self,seq):\n",
    "        freq = np.zeros(len(self.alphabet))\n",
    "        for num in seq:\n",
    "            freq[num] += 1\n",
    "        return freq / np.linalg.norm(freq)\n",
    "    \n",
    "\n",
    "    def _shift_inner_prod(self,i,v,w):\n",
    "        i = i % len(v)\n",
    "        wi = np.append(w[len(w)-i:] , w[:len(w)-i])\n",
    "        return  v.dot((np.append(w[len(w)-i:] , w[:len(w)-i])))\n",
    "    \n",
    "    def _max_shift_inner_prod(self,v,w):\n",
    "        return max([(self._shift_inner_prod(i,v,w),i) for i in range(len(v))])\n",
    "    \n",
    "    def _deciphe_with_key(self,num_cryptogram,key):\n",
    "        return [(num_cryptogram[i] - key[i%len(key)]) % len(self.alphabet) for i in range(len(num_cryptogram))]"
   ]
  },
  {
   "cell_type": "code",
   "execution_count": 645,
   "metadata": {
    "collapsed": true
   },
   "outputs": [],
   "source": [
    "X = Decipher(string.ascii_lowercase,frequency)"
   ]
  },
  {
   "cell_type": "code",
   "execution_count": 646,
   "metadata": {},
   "outputs": [
    {
     "data": {
      "text/plain": [
       "('codes',\n",
       " 'themethodusedforthepreparationandreadingofcodemessagesissimpleintheextremeandatthesametimeimpossibleoftranslationunlessthekeyisknowntheeasewithwhichthekeymaybechangedisanotherpointinfavoroftheadoptionofthiscodebythosedesiringtotransmitimportantmessageswithouttheslightestdangeroftheirmessagesbeingreadbypoliticalorbusinessrivalsetc')"
      ]
     },
     "execution_count": 646,
     "metadata": {},
     "output_type": "execute_result"
    }
   ],
   "source": [
    "X.deciphe(cryptogram,10)"
   ]
  },
  {
   "cell_type": "code",
   "execution_count": 715,
   "metadata": {},
   "outputs": [
    {
     "name": "stdout",
     "output_type": "stream",
     "text": [
      "('c', 'bbbbbbbcc')\n"
     ]
    }
   ],
   "source": [
    "#test\n",
    "test1_alphabet = \"abc\"\n",
    "test1_cryptogram =\"aaaaaaabb\"\n",
    "test1_frequency = [0.1,0.7,0.2]\n",
    "decipher = Decipher(test1_alphabet,test1_frequency)\n",
    "print(decipher.deciphe(test1_cryptogram,1))\n",
    "assert decipher.deciphe(test1_cryptogram,1)[1] == \"bbbbbbbcc\""
   ]
  },
  {
   "cell_type": "code",
   "execution_count": 704,
   "metadata": {
    "collapsed": true
   },
   "outputs": [],
   "source": [
    "cryptogram_file = open(\"cryptogram.txt\",\"r\")\n",
    "cryptogram = cryptogram_file.read()\n",
    "#cryptogram = cryptogram.rstrip()\n",
    "cryptogram = cryptogram.replace('\\n','')\n",
    "frequency_file = open(\"letters_frequention.txt\",\"r\")\n",
    "frequency = frequency_file.read()\n",
    "frequency=frequency.replace(\" \", \"\")\n",
    "frequency.replace(\" \", \"\")\n",
    "frequency=frequency.split(\",\")\n",
    "frequency = list(map(float, frequency))"
   ]
  },
  {
   "cell_type": "code",
   "execution_count": 705,
   "metadata": {},
   "outputs": [
    {
     "name": "stdout",
     "output_type": "stream",
     "text": [
      "('codes', 'themethodusedforthepreparationandreadingofcodemessagesissimpleintheextremeandatthesametimeimpossibleoftranslationunlessthekeyisknowntheeasewithwhichthekeymaybechangedisanotherpointinfavoroftheadoptionofthiscodebythosedesiringtotransmitimportantmessageswithouttheslightestdangeroftheirmessagesbeingreadbypoliticalorbusinessrivalsetc')\n"
     ]
    }
   ],
   "source": [
    "decipher = Decipher(string.ascii_lowercase,frequency)\n",
    "print(decipher.deciphe(cryptogram,10))"
   ]
  },
  {
   "cell_type": "code",
   "execution_count": 720,
   "metadata": {
    "collapsed": true
   },
   "outputs": [],
   "source": [
    "cryptogram_file = open(\"cryptogram2.txt\",\"r\")\n",
    "cryptogram = cryptogram_file.read()\n",
    "cryptogram = cryptogram.replace('\\n','')"
   ]
  },
  {
   "cell_type": "code",
   "execution_count": 721,
   "metadata": {},
   "outputs": [
    {
     "data": {
      "text/plain": [
       "'hdsfgvmkoowafweetcmfthskucaqbilgjofmaqlgspvatvxqbiryscpcfrmvswrvnqlszdmgaoqsakmlupsqforvtwvdfcjzvgsoaoqsacjkbrsevbelvbksarlscdcaarmnvrysywxqgvellcyluwwveoafgclazowafojdlhssfiksepsoywxafowlbfcsocylngqsyzxgjbmlvgrggokgfgmhlmejabsjvgmlnrvqzcrggcrghgeupcyfgtydycjkhqluhgxgzovqswpdvbwsffsenbxapasgazmyuhgsfhmftayjxmwznrsofrsoaopgauaaarmftqsmahvqecev'"
      ]
     },
     "execution_count": 721,
     "metadata": {},
     "output_type": "execute_result"
    }
   ],
   "source": [
    "cryptogram"
   ]
  },
  {
   "cell_type": "code",
   "execution_count": 708,
   "metadata": {},
   "outputs": [
    {
     "name": "stdout",
     "output_type": "stream",
     "text": [
      "('soaofo', 'ppsrbhuwoarmnieqoourttnwcoacwutsjaayiclsnbdmthscjurknoxofdhhairhictezphsiaqevwuxubncnarhoidpfoeldssavayeaoewjdsqqnmxvnfeidlexpkmadhzddyetifcghzxtoyxpieheavroolmuaemfaepttseauseebnagixmaaexbrxewoyxisyeylssrnmxqszsgafsnsmtgymvannvdsmxiddczomsoorscsmgpotrofyptorwhcggpsxsuadcsikpdnwearaqnnsmxmssvlukutbentmromgvxyrlvdsaadaaaaksigamvdurtcnyitvczomh')\n"
     ]
    }
   ],
   "source": [
    "#nie dziala zadanie 12\n",
    "decipher = Decipher(string.ascii_lowercase,frequency)\n",
    "print(decipher.deciphe(cryptogram,6))"
   ]
  },
  {
   "cell_type": "code",
   "execution_count": 717,
   "metadata": {
    "collapsed": true
   },
   "outputs": [],
   "source": [
    "cryptogram_file = open(\"cryptogram3.txt\",\"r\")\n",
    "cryptogram = cryptogram_file.read()\n",
    "cryptogram = cryptogram.replace('\\n','')"
   ]
  },
  {
   "cell_type": "code",
   "execution_count": 718,
   "metadata": {},
   "outputs": [
    {
     "data": {
      "text/plain": [
       "'xkjurowmllpxwznpimbvbqjcnowxpcchhvvfvsllfvxhazityxohulxqojaxelxzxmyjaqfstsrulhhucdskbxknjqidallpqslluhiaqfpbpcidsvcihwhwewthbtxrljnrsncihuvffuxvoukjljswmaqfvjwjsdyljogjxdboxajultucpzmpliwmlubzxvoodybafdskxgqfadshxnxehsaruojaqfpfkndhsaafvulluwtaqfrupwjrszxgpfutjqiynrxnyntwmhcukjfbirzsmehhsjshyonddzzntzmplilrwnmwmlvuryonthuhabwnvw'"
      ]
     },
     "execution_count": 718,
     "metadata": {},
     "output_type": "execute_result"
    }
   ],
   "source": [
    "cryptogram"
   ]
  },
  {
   "cell_type": "code",
   "execution_count": 719,
   "metadata": {},
   "outputs": [
    {
     "data": {
      "text/plain": [
       "('bdfhj',\n",
       " 'wheninthecourseofhumaneventsitbecomesnecessaryforonepeopletodissolvethepoliticalbandswhichhaveconnectedthemwithanotherandtoassumeamongthepowersoftheearththeseparateandequalstationtowhichthelawsofnatureandofnaturesgodentitlethemadecentrespecttotheopinionsofmankindrequiresthattheyshoulddeclarethecauseswhichimpelthemtotheseparation')"
      ]
     },
     "execution_count": 719,
     "metadata": {},
     "output_type": "execute_result"
    }
   ],
   "source": [
    "X = Decipher(string.ascii_lowercase,frequency)\n",
    "X.deciphe(cryptogram,6)"
   ]
  },
  {
   "cell_type": "code",
   "execution_count": 712,
   "metadata": {
    "collapsed": true
   },
   "outputs": [],
   "source": [
    "cryptogram_file = open(\"cryptogram4.txt\",\"r\")\n",
    "cryptogram = cryptogram_file.read()\n",
    "cryptogram = cryptogram.replace('\\n','')"
   ]
  },
  {
   "cell_type": "code",
   "execution_count": 713,
   "metadata": {},
   "outputs": [
    {
     "data": {
      "text/plain": [
       "'ocwyikoooniwugpmxwktzdwgtssayjzwyemdlbnqaaavsuwdvbrflauplooubfgqhgcscmgzlatoedcsdeidpbhtmuovpiekifpimfnoamvlpqfxejsmxmpgkccaykwfzpyuavtelwhrhmwkbbvgtguvtefjlodfefkvpxsgrsorvgtajbsauhzrzalkwuowhgedefnswmrciwcpaaavogpdnfpktdbalsisurlnpsjyeatcuceesohhdarkhwotikbroqrdfmzghg'"
      ]
     },
     "execution_count": 713,
     "metadata": {},
     "output_type": "execute_result"
    }
   ],
   "source": [
    "cryptogram"
   ]
  },
  {
   "cell_type": "code",
   "execution_count": 714,
   "metadata": {},
   "outputs": [
    {
     "data": {
      "text/plain": [
       "('holmes',\n",
       " 'holmeshadbeenseatedforsomehoursinsilencewithhislongthinbackcurvedoverachemicalvesselinwhichhewasbrewingaparticularlymalodorousproducthisheadwassunkuponhisbreastandhelookedfrommypointofviewlikeastrangelankbirdwithdullgreyplumageandablacktopknotsowatsonsaidhesuddenlyyoudo')"
      ]
     },
     "execution_count": 714,
     "metadata": {},
     "output_type": "execute_result"
    }
   ],
   "source": [
    "X = Decipher(string.ascii_lowercase,frequency)\n",
    "X.deciphe(cryptogram,10)"
   ]
  }
 ],
 "metadata": {
  "kernelspec": {
   "display_name": "Python 3",
   "language": "python",
   "name": "python3"
  },
  "language_info": {
   "codemirror_mode": {
    "name": "ipython",
    "version": 3
   },
   "file_extension": ".py",
   "mimetype": "text/x-python",
   "name": "python",
   "nbconvert_exporter": "python",
   "pygments_lexer": "ipython3",
   "version": "3.6.1"
  }
 },
 "nbformat": 4,
 "nbformat_minor": 2
}
